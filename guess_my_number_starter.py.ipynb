{
 "cells": [
  {
   "cell_type": "markdown",
   "id": "1278f328",
   "metadata": {},
   "source": [
    "# Assignment on Number Guessing"
   ]
  },
  {
   "cell_type": "code",
   "execution_count": null,
   "id": "e4e50a16",
   "metadata": {},
   "outputs": [],
   "source": [
    "import random\n",
    "\n",
    "x = 1\n",
    "y = 99\n",
    "\n",
    "number = int(random.randint(x, y))\n",
    "\n",
    "print(\"I am thinking of a number between\",x,\"and\",y,\". Try to guess it.\")\n",
    "\n",
    "while True:\n",
    "    guess = int(input(\"Enter a guess: \"))\n",
    "\n",
    "    if guess < number:\n",
    "        print(\"Your guess is too low. Guess again.\")\n",
    "        \n",
    "    elif guess > number:\n",
    "        print(\"Your guess is too high. Guess again.\")\n",
    "        \n",
    "    else:\n",
    "        print(\"Congrats! Your guess is correct.\")\n",
    "    \n",
    "        break"
   ]
  }
 ],
 "metadata": {
  "kernelspec": {
   "display_name": "Python 3 (ipykernel)",
   "language": "python",
   "name": "python3"
  },
  "language_info": {
   "codemirror_mode": {
    "name": "ipython",
    "version": 3
   },
   "file_extension": ".py",
   "mimetype": "text/x-python",
   "name": "python",
   "nbconvert_exporter": "python",
   "pygments_lexer": "ipython3",
   "version": "3.9.7"
  }
 },
 "nbformat": 4,
 "nbformat_minor": 5
}
